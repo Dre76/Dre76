{
  "nbformat": 4,
  "nbformat_minor": 0,
  "metadata": {
    "colab": {
      "name": "Untitled2.ipynb",
      "provenance": [],
      "collapsed_sections": [],
      "authorship_tag": "ABX9TyPr1Etf6agfK8JKS3CT2XGN",
      "include_colab_link": true
    },
    "kernelspec": {
      "name": "python3",
      "display_name": "Python 3"
    },
    "language_info": {
      "name": "python"
    }
  },
  "cells": [
    {
      "cell_type": "markdown",
      "metadata": {
        "id": "view-in-github",
        "colab_type": "text"
      },
      "source": [
        "<a href=\"https://colab.research.google.com/github/Dre76/Dre76/blob/main/Untitled2.ipynb\" target=\"_parent\"><img src=\"https://colab.research.google.com/assets/colab-badge.svg\" alt=\"Open In Colab\"/></a>"
      ]
    },
    {
      "cell_type": "code",
      "execution_count": 42,
      "metadata": {
        "colab": {
          "base_uri": "https://localhost:8080/"
        },
        "id": "7Y6zShFJ8VIb",
        "outputId": "dafa0a4e-4c15-4197-baaa-fb827a4e9694"
      },
      "outputs": [
        {
          "output_type": "stream",
          "name": "stdout",
          "text": [
            "[ 287610  286019  292764 ...  143453 -261888  289506]\n",
            "299975\n",
            "-299973\n",
            "1586.3823\n",
            "[ True  True  True ... False False  True]\n",
            "[ 287610  286019  292764 ...  143453 -261888  289506]\n"
          ]
        }
      ],
      "source": [
        "import numpy as np\n",
        "from numpy.random import default_rng\n",
        "rng = default_rng(1234)\n",
        "integers = rng.integers(low=-300_000, high=300_000, size=10_000)\n",
        "print(integers)\n",
        "print(integers.max())\n",
        "print(integers.min())\n",
        "print(integers.mean())\n",
        "print(abs(integers>150000))\n",
        "print(integers)\n",
        "\n"
      ]
    }
  ]
}