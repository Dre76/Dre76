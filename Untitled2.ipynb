{
  "nbformat": 4,
  "nbformat_minor": 0,
  "metadata": {
    "colab": {
      "name": "Untitled2.ipynb",
      "provenance": [],
      "collapsed_sections": [],
      "authorship_tag": "ABX9TyONXrEjC1fmeiCn6Ak6nxES",
      "include_colab_link": true
    },
    "kernelspec": {
      "name": "python3",
      "display_name": "Python 3"
    },
    "language_info": {
      "name": "python"
    }
  },
  "cells": [
    {
      "cell_type": "markdown",
      "metadata": {
        "id": "view-in-github",
        "colab_type": "text"
      },
      "source": [
        "<a href=\"https://colab.research.google.com/github/Dre76/Dre76/blob/main/Untitled2.ipynb\" target=\"_parent\"><img src=\"https://colab.research.google.com/assets/colab-badge.svg\" alt=\"Open In Colab\"/></a>"
      ]
    },
    {
      "cell_type": "code",
      "execution_count": 22,
      "metadata": {
        "colab": {
          "base_uri": "https://localhost:8080/"
        },
        "id": "7Y6zShFJ8VIb",
        "outputId": "84ad1900-158c-4cfe-9454-2ca894a512f8"
      },
      "outputs": [
        {
          "output_type": "stream",
          "name": "stdout",
          "text": [
            "299975\n",
            "-299973\n",
            "1586.3823\n",
            "[ True  True  True ... False False  True]\n",
            "[ 287610  286019  292764 ...  143453 -261888  289506]\n",
            "[  -1896  547907  149311 ... -149311 -547907    1896]\n",
            "-596505\n",
            "[102  11 127 ...  95 211 120]\n",
            "299975\n",
            "-23\n",
            "1078.8115562713913\n",
            "(4910,)\n",
            "-445776\n"
          ]
        }
      ],
      "source": [
        "import numpy as np\n",
        "from numpy.random import default_rng\n",
        "rng = default_rng(1234)\n",
        "integers = rng.integers(low=-300_000, high=300_000, size=10_000)\n",
        "print(integers.max())\n",
        "print(integers.min())\n",
        "print(integers.mean())\n",
        "print(abs(integers>150000))\n",
        "print(integers)\n",
        "result = integers[::-1]\n",
        "print(integers - result)\n",
        "list = integers - result\n",
        "print(list.min())\n",
        "print(list%222)\n",
        "import numpy as np\n",
        "from numpy.random import default_rng\n",
        "rng = default_rng(1234)\n",
        "integers = rng.integers(low=-300_000, high=300_000, size=10_000)\n",
        "\n",
        "# Simple statistics\n",
        "print(integers.max())\n",
        "print(integers[integers < 0].max())\n",
        "print(integers[~integers % 2 == 0].mean())\n",
        "\n",
        "# Complex A\n",
        "absolute_values = np.absolute(integers)\n",
        "absolute_minus = absolute_values - 150000\n",
        "print(absolute_minus[absolute_minus > 0].shape) # .size is even better\n",
        "\n",
        "# Complex B\n",
        "integers_reversed = np.flip(integers)\n",
        "new_integers = integers - integers_reversed\n",
        "print(new_integers[new_integers % 222 == 0].min())\n",
        "\n"
      ]
    }
  ]
}